{
 "cells": [
  {
   "cell_type": "markdown",
   "metadata": {},
   "source": [
    "# CSC411 Assignment 3\n",
    "Let's get it."
   ]
  },
  {
   "cell_type": "code",
   "execution_count": 2,
   "metadata": {},
   "outputs": [],
   "source": [
    "import pandas as pd\n",
    "from sklearn.model_selection import train_test_split"
   ]
  },
  {
   "cell_type": "markdown",
   "metadata": {},
   "source": [
    "## P1: Reading Data"
   ]
  },
  {
   "cell_type": "code",
   "execution_count": 3,
   "metadata": {},
   "outputs": [],
   "source": [
    "fake_data = pd.read_fwf(\"./data/clean_fake.txt\", header=None)\n",
    "real_data = pd.read_fwf(\"./data/clean_real.txt\", header=None)"
   ]
  },
  {
   "cell_type": "code",
   "execution_count": 4,
   "metadata": {},
   "outputs": [],
   "source": [
    "fake_train, fake_test = train_test_split(fake_data, test_size=0.15)\n",
    "real_train, real_test = train_test_split(real_data, test_size=0.15)\n",
    "\n",
    "fake_train, fake_validation = train_test_split(fake_train, test_size=0.15/0.85)\n",
    "real_train, real_validation = train_test_split(real_train, test_size=0.15/0.85)"
   ]
  },
  {
   "cell_type": "markdown",
   "metadata": {},
   "source": [
    "## P2: Naive Bayes"
   ]
  },
  {
   "cell_type": "code",
   "execution_count": 11,
   "metadata": {},
   "outputs": [],
   "source": [
    "def generate_counts(data):\n",
    "    '''\n",
    "    data is an array of strings\n",
    "    '''\n",
    "    counts = {}\n",
    "    for line in data:\n",
    "        words = line.split(\" \")\n",
    "        for word in words:\n",
    "            if word in counts:\n",
    "                counts[word] += 1\n",
    "            else:\n",
    "                counts[word] = 1\n",
    "    return counts"
   ]
  },
  {
   "cell_type": "code",
   "execution_count": 27,
   "metadata": {},
   "outputs": [],
   "source": [
    "fake_counts = generate_counts(fake_train[0])\n",
    "real_counts = generate_counts(real_train[0])\n",
    "\n",
    "for key in fake_counts.keys():\n",
    "    if key not in real_counts:\n",
    "        real_counts[key] = 0\n",
    "for key in real_counts.keys():\n",
    "    if key not in fake_counts:\n",
    "        fake_counts[key] = 0\n",
    "\n",
    "total_counts = {}\n",
    "for key in real_counts.keys():\n",
    "    total_counts[key] = real_counts[key] + fake_counts[key]\n",
    "\n",
    "num_fake = len(fake_train)\n",
    "num_real = len(real_train)\n",
    "num_total = num_fake + num_real\n",
    "\n",
    "P_real = num_real / num_total\n",
    "P_fake = num_fake / num_total\n",
    "\n",
    "fake_freqs = {n: fake_counts[n] / num_fake for n in fake_counts.keys()}      #gives P(x | fake)\n",
    "real_freqs = {n: real_counts[n] / num_real for n in real_counts.keys()}      #gives P(x | real)\n",
    "total_freqs = {n: total_counts[n] / num_total for n in total_counts.keys()}  #gives P(x)"
   ]
  },
  {
   "cell_type": "code",
   "execution_count": 32,
   "metadata": {},
   "outputs": [],
   "source": [
    "def make_prediction(line):\n",
    "    '''\n",
    "    line is a string\n",
    "    '''\n",
    "    words = line.split(\" \")\n",
    "    P_words_given_real = 1\n",
    "    P_words_given_fake = 1\n",
    "    for key in real_freqs:\n",
    "        if key in words:\n",
    "            P_words_given_real *= real_freqs[key]\n",
    "            P_words_given_fake *= fake_freqs[key]\n",
    "        else:\n",
    "            P_words_given_real *= 1 - real_freqs[key]\n",
    "            P_words_given_fake *= 1 - fake_freqs[key]\n",
    "            \n",
    "    numerator = P_words_given_real * P_real\n",
    "    print(numerator)\n",
    "    denominator = numerator + P_words_given_fake * P_fake\n",
    "    #print(numerator)\n",
    "    #print(denominator)\n",
    "    return numerator / denominator"
   ]
  },
  {
   "cell_type": "code",
   "execution_count": 33,
   "metadata": {},
   "outputs": [
    {
     "name": "stdout",
     "output_type": "stream",
     "text": [
      "0.0\n"
     ]
    },
    {
     "ename": "ZeroDivisionError",
     "evalue": "float division by zero",
     "output_type": "error",
     "traceback": [
      "\u001b[0;31m---------------------------------------------------------------------------\u001b[0m",
      "\u001b[0;31mZeroDivisionError\u001b[0m                         Traceback (most recent call last)",
      "\u001b[0;32m<ipython-input-33-67c0b0847f4d>\u001b[0m in \u001b[0;36m<module>\u001b[0;34m()\u001b[0m\n\u001b[0;32m----> 1\u001b[0;31m \u001b[0mprint\u001b[0m\u001b[0;34m(\u001b[0m\u001b[0mmake_prediction\u001b[0m\u001b[0;34m(\u001b[0m\u001b[0;34m\"hillary donald wow united marines sessions\"\u001b[0m\u001b[0;34m)\u001b[0m\u001b[0;34m)\u001b[0m\u001b[0;34m\u001b[0m\u001b[0m\n\u001b[0m",
      "\u001b[0;32m<ipython-input-32-538494f2c969>\u001b[0m in \u001b[0;36mmake_prediction\u001b[0;34m(line)\u001b[0m\n\u001b[1;32m     19\u001b[0m     \u001b[0;31m#print(numerator)\u001b[0m\u001b[0;34m\u001b[0m\u001b[0;34m\u001b[0m\u001b[0m\n\u001b[1;32m     20\u001b[0m     \u001b[0;31m#print(denominator)\u001b[0m\u001b[0;34m\u001b[0m\u001b[0;34m\u001b[0m\u001b[0m\n\u001b[0;32m---> 21\u001b[0;31m     \u001b[0;32mreturn\u001b[0m \u001b[0mnumerator\u001b[0m \u001b[0;34m/\u001b[0m \u001b[0mdenominator\u001b[0m\u001b[0;34m\u001b[0m\u001b[0m\n\u001b[0m",
      "\u001b[0;31mZeroDivisionError\u001b[0m: float division by zero"
     ]
    }
   ],
   "source": [
    "print(make_prediction(\"hillary donald wow united marines sessions\"))"
   ]
  },
  {
   "cell_type": "code",
   "execution_count": null,
   "metadata": {},
   "outputs": [],
   "source": []
  }
 ],
 "metadata": {
  "kernelspec": {
   "display_name": "Python 3",
   "language": "python",
   "name": "python3"
  },
  "language_info": {
   "codemirror_mode": {
    "name": "ipython",
    "version": 3
   },
   "file_extension": ".py",
   "mimetype": "text/x-python",
   "name": "python",
   "nbconvert_exporter": "python",
   "pygments_lexer": "ipython3",
   "version": "3.5.2"
  }
 },
 "nbformat": 4,
 "nbformat_minor": 2
}
