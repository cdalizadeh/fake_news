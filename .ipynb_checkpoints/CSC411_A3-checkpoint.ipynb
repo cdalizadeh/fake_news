{
 "cells": [
  {
   "cell_type": "markdown",
   "metadata": {},
   "source": [
    "# CSC411 Assignment 3\n",
    "Let's get it."
   ]
  },
  {
   "cell_type": "code",
   "execution_count": 41,
   "metadata": {},
   "outputs": [],
   "source": [
    "import pandas as pd\n",
    "from sklearn.model_selection import train_test_split"
   ]
  },
  {
   "cell_type": "markdown",
   "metadata": {},
   "source": [
    "## P1: Reading Data"
   ]
  },
  {
   "cell_type": "code",
   "execution_count": 42,
   "metadata": {},
   "outputs": [],
   "source": [
    "fake_data = pd.read_fwf(\"./data/clean_fake.txt\", header=None)\n",
    "real_data = pd.read_fwf(\"./data/clean_real.txt\", header=None)"
   ]
  },
  {
   "cell_type": "code",
   "execution_count": 43,
   "metadata": {},
   "outputs": [],
   "source": [
    "fake_train, fake_test = train_test_split(fake_data, test_size=0.15)\n",
    "real_train, real_test = train_test_split(real_data, test_size=0.15)\n",
    "\n",
    "fake_train, fake_validation = train_test_split(fake_train, test_size=0.15/0.85)\n",
    "real_train, real_validation = train_test_split(real_train, test_size=0.15/0.85)"
   ]
  },
  {
   "cell_type": "markdown",
   "metadata": {},
   "source": [
    "## P2: Naive Bayes"
   ]
  },
  {
   "cell_type": "code",
   "execution_count": 58,
   "metadata": {},
   "outputs": [],
   "source": [
    "def generate_frequencies(data):\n",
    "    '''\n",
    "    data is an array of strings\n",
    "    '''\n",
    "    counts = {}\n",
    "    for line in data:\n",
    "        words = line.split(\" \")\n",
    "        for word in words:\n",
    "            if word in counts:\n",
    "                counts[word] += 1\n",
    "            else:\n",
    "                counts[word] = 1\n",
    "    return counts"
   ]
  },
  {
   "cell_type": "code",
   "execution_count": 81,
   "metadata": {},
   "outputs": [],
   "source": [
    "fake_counts = generate_frequencies(fake_train[0])\n",
    "real_counts = generate_frequencies(real_train[0])\n",
    "\n",
    "total_counts = {}\n",
    "for key in fake_counts.keys():\n",
    "    if key in real_counts:\n",
    "        total_counts[key] = fake_counts[key] + real_counts[key]\n",
    "    else:\n",
    "        total_counts[key] = fake_counts[key]\n",
    "for key in real_counts.keys():\n",
    "    if key not in total_counts:\n",
    "        total_counts[key] = real_counts[key]"
   ]
  },
  {
   "cell_type": "code",
   "execution_count": 91,
   "metadata": {},
   "outputs": [],
   "source": [
    "num_fake = len(fake_train)\n",
    "num_real = len(real_train)\n",
    "num_total = num_fake + num_real\n",
    "\n",
    "fake_freqs = {n: fake_counts[n] / num_fake for n in fake_counts.keys()}\n",
    "real_freqs = {n: real_counts[n] / num_real for n in real_counts.keys()}\n",
    "total_freqs = {n: total_counts[n] / num_total for n in total_counts.keys()}"
   ]
  },
  {
   "cell_type": "code",
   "execution_count": null,
   "metadata": {},
   "outputs": [],
   "source": []
  }
 ],
 "metadata": {
  "kernelspec": {
   "display_name": "Python 3",
   "language": "python",
   "name": "python3"
  },
  "language_info": {
   "codemirror_mode": {
    "name": "ipython",
    "version": 3
   },
   "file_extension": ".py",
   "mimetype": "text/x-python",
   "name": "python",
   "nbconvert_exporter": "python",
   "pygments_lexer": "ipython3",
   "version": "3.5.2"
  }
 },
 "nbformat": 4,
 "nbformat_minor": 2
}
