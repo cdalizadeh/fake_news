{
 "cells": [
  {
   "cell_type": "markdown",
   "metadata": {},
   "source": [
    "# CSC411 Assignment 3\n",
    "Let's get it."
   ]
  },
  {
   "cell_type": "code",
   "execution_count": 101,
   "metadata": {
    "collapsed": true
   },
   "outputs": [],
   "source": [
    "import pandas as pd\n",
    "from sklearn.model_selection import train_test_split\n",
    "import numpy as np"
   ]
  },
  {
   "cell_type": "markdown",
   "metadata": {},
   "source": [
    "## P1: Reading Data"
   ]
  },
  {
   "cell_type": "code",
   "execution_count": 61,
   "metadata": {
    "collapsed": true
   },
   "outputs": [],
   "source": [
    "import os\n",
    "root_dir = os.path.join(os.getcwd(), \"data\")\n",
    "fake_data = pd.read_fwf(os.path.join(root_dir, \"clean_fake.txt\"), header=None)\n",
    "real_data = pd.read_fwf(os.path.join(root_dir, \"clean_real.txt\"), header=None)"
   ]
  },
  {
   "cell_type": "code",
   "execution_count": 62,
   "metadata": {},
   "outputs": [
    {
     "name": "stdout",
     "output_type": "stream",
     "text": [
      "1298 1968\n"
     ]
    }
   ],
   "source": [
    "print len(fake_data), len(real_data)"
   ]
  },
  {
   "cell_type": "code",
   "execution_count": 106,
   "metadata": {
    "collapsed": true
   },
   "outputs": [],
   "source": [
    "fake_train, fake_test = train_test_split(fake_data, test_size=0.15)\n",
    "real_train, real_test = train_test_split(real_data, test_size=0.15)\n",
    "\n",
    "fake_train, fake_validation = train_test_split(fake_train, test_size=0.15/0.85)\n",
    "real_train, real_validation = train_test_split(real_train, test_size=0.15/0.85)"
   ]
  },
  {
   "cell_type": "code",
   "execution_count": 107,
   "metadata": {},
   "outputs": [
    {
     "name": "stdout",
     "output_type": "stream",
     "text": [
      "908 1376\n"
     ]
    }
   ],
   "source": [
    "print len(fake_train), len(real_train)"
   ]
  },
  {
   "cell_type": "markdown",
   "metadata": {},
   "source": [
    "## P2: Naive Bayes"
   ]
  },
  {
   "cell_type": "code",
   "execution_count": 108,
   "metadata": {
    "collapsed": true
   },
   "outputs": [],
   "source": [
    "def generate_counts(data):\n",
    "    '''\n",
    "    data is an array of strings\n",
    "    '''\n",
    "    counts = {}\n",
    "    for line in data:\n",
    "        words = line.split(\" \")\n",
    "        for word in words:\n",
    "            if word in counts:\n",
    "                counts[word] += 1.0\n",
    "            else:\n",
    "                counts[word] = 1.0\n",
    "    return counts"
   ]
  },
  {
   "cell_type": "code",
   "execution_count": 112,
   "metadata": {},
   "outputs": [
    {
     "name": "stdout",
     "output_type": "stream",
     "text": [
      "2968\n",
      "2961\n",
      "4783\n",
      "908.0\n",
      "1376.0\n",
      "0.602451838879\n",
      "0.397548161121\n"
     ]
    }
   ],
   "source": [
    "fake_counts = generate_counts(fake_train[0])\n",
    "real_counts = generate_counts(real_train[0])\n",
    "\n",
    "fake_vocab = fake_counts.keys()\n",
    "real_vocab = real_counts.keys()\n",
    "\n",
    "fake_vocab_size = len(fake_vocab)\n",
    "print fake_vocab_size\n",
    "real_vocab_size = len(real_vocab)\n",
    "print real_vocab_size\n",
    "\n",
    "\n",
    "for word in fake_counts.keys():\n",
    "    if word not in real_counts:\n",
    "        real_counts[word] = 0.0\n",
    "for word in real_counts.keys():\n",
    "    if word not in fake_counts:\n",
    "        fake_counts[word] = 0.0\n",
    "\n",
    "total_counts = {}\n",
    "for word in real_counts.keys():\n",
    "    total_counts[word] = real_counts[word] + fake_counts[word]\n",
    "    \n",
    "total_vocab_size = len(total_counts)\n",
    "print total_vocab_size\n",
    "\n",
    "num_fake = float(len(fake_train))\n",
    "num_real = float(len(real_train))\n",
    "num_total = num_fake + num_real\n",
    "\n",
    "print num_fake\n",
    "print num_real\n",
    "\n",
    "P_real = num_real / num_total\n",
    "P_fake = num_fake / num_total\n",
    "\n",
    "print P_real\n",
    "print P_fake\n",
    "\n",
    "alpha = 1.0 # Smoothing prior, alpha=1.0 Laplace smoothing\n",
    "fake_thetas = {word: (fake_counts[word] + alpha) / (num_fake + alpha * fake_vocab_size) for word in fake_counts.keys()}      #gives P(x | fake)\n",
    "real_thetas = {word: (real_counts[word] + alpha) / (num_real + alpha * real_vocab_size) for word in real_counts.keys()}      #gives P(x | real)\n",
    "total_thetas = {word: (total_counts[word] + alpha) / (num_total + alpha * total_vocab_size) for word in total_counts.keys()}  #gives P(x)"
   ]
  },
  {
   "cell_type": "code",
   "execution_count": 113,
   "metadata": {
    "collapsed": true
   },
   "outputs": [],
   "source": [
    "def make_prediction(line):\n",
    "    '''\n",
    "    line is a string\n",
    "    '''\n",
    "    words = line.split(\" \")\n",
    "    log_P_words_given_real = 0\n",
    "    log_P_words_given_fake = 0\n",
    "    for word in real_thetas.keys():\n",
    "      \n",
    "        if word in words:\n",
    "            log_P_words_given_real += np.log(real_thetas[word]) \n",
    "            log_P_words_given_fake += np.log(fake_thetas[word])\n",
    "        else:\n",
    "            log_P_words_given_real += np.log(1 - real_thetas[word])\n",
    "            log_P_words_given_fake += np.log(1 - fake_thetas[word])\n",
    "    \n",
    "    \n",
    "    log_numerator = log_P_words_given_real + np.log(P_real)\n",
    "    numerator = np.exp(log_numerator)\n",
    "    \n",
    "    log_fake = log_P_words_given_fake + np.log(P_fake)\n",
    "    log_denominator = np.log(numerator + np.exp(log_fake))\n",
    "    \n",
    "    log_P_real_given_words = log_numerator - log_denominator\n",
    "    return np.exp(log_P_real_given_words)"
   ]
  },
  {
   "cell_type": "code",
   "execution_count": 114,
   "metadata": {},
   "outputs": [
    {
     "name": "stdout",
     "output_type": "stream",
     "text": [
      "0.284265552377\n"
     ]
    }
   ],
   "source": [
    "print(make_prediction(\"fcc chairman ajit pai attempted to take a pornstar out for dinner\"))"
   ]
  },
  {
   "cell_type": "markdown",
   "metadata": {},
   "source": [
    "## Part 3"
   ]
  },
  {
   "cell_type": "code",
   "execution_count": 92,
   "metadata": {},
   "outputs": [
    {
     "data": {
      "text/plain": [
       "[('trump', 0.28032407407407406),\n",
       " ('donald', 0.1337962962962963),\n",
       " ('to', 0.07453703703703704),\n",
       " ('trumps', 0.0375),\n",
       " ('us', 0.03657407407407407),\n",
       " ('in', 0.03425925925925926),\n",
       " ('on', 0.03125),\n",
       " ('of', 0.030787037037037036),\n",
       " ('for', 0.02962962962962963),\n",
       " ('the', 0.028703703703703703)]"
      ]
     },
     "execution_count": 92,
     "metadata": {},
     "output_type": "execute_result"
    }
   ],
   "source": [
    "# Goal: max P(real | word) = max P(word | read) * P(real)\n",
    "# = max P(word | real) = max real_thetas\n",
    "real_thetas_ = [(word, theta) for word, theta in real_thetas.items()]\n",
    "sorted_real_words = sorted(real_thetas_, key=lambda pair: pair[1], reverse=True)\n",
    "sorted_real_words[:10]"
   ]
  },
  {
   "cell_type": "code",
   "execution_count": 93,
   "metadata": {},
   "outputs": [
    {
     "data": {
      "text/plain": [
       "[('sleep', 0.0002314814814814815),\n",
       " ('nwo', 0.0002314814814814815),\n",
       " ('assembled', 0.0002314814814814815),\n",
       " ('vandal', 0.0002314814814814815),\n",
       " ('edward', 0.0002314814814814815),\n",
       " ('teaching', 0.0002314814814814815),\n",
       " ('sway', 0.0002314814814814815),\n",
       " ('divergent', 0.0002314814814814815),\n",
       " ('illegally', 0.0002314814814814815),\n",
       " ('updated', 0.0002314814814814815)]"
      ]
     },
     "execution_count": 93,
     "metadata": {},
     "output_type": "execute_result"
    }
   ],
   "source": [
    "# Goal: max P(real | not word) = max P(not word | read) * P(real)\n",
    "# = max P(not word | real) = max (1 - P(word | real)) = max (1 - real_thetas)\n",
    "real_thetas_ = [(word, theta) for word, theta in real_thetas.items()]\n",
    "sorted_real_words_not = sorted(real_thetas_, key=lambda pair: 1 - pair[1], reverse=True)\n",
    "sorted_real_words_not[:10]"
   ]
  },
  {
   "cell_type": "code",
   "execution_count": 94,
   "metadata": {},
   "outputs": [
    {
     "data": {
      "text/plain": [
       "[('four', 0.000462962962962963),\n",
       " ('island', 0.000462962962962963),\n",
       " ('asian', 0.000462962962962963),\n",
       " ('aides', 0.000462962962962963),\n",
       " ('pheasant', 0.000462962962962963),\n",
       " ('hasan', 0.000462962962962963),\n",
       " ('marching', 0.000462962962962963),\n",
       " ('stinks', 0.000462962962962963),\n",
       " ('whose', 0.000462962962962963),\n",
       " ('voter', 0.000462962962962963)]"
      ]
     },
     "execution_count": 94,
     "metadata": {},
     "output_type": "execute_result"
    }
   ],
   "source": [
    "# But now look at words that only actually appear in the real headlines\n",
    "real_thetas_ = [(word, theta) for word, theta in real_thetas.items() if word in real_vocab]\n",
    "sorted_real_words_not = sorted(real_thetas_, key=lambda pair: 1 - pair[1], reverse=True)\n",
    "sorted_real_words_not[:10]"
   ]
  },
  {
   "cell_type": "code",
   "execution_count": 95,
   "metadata": {},
   "outputs": [
    {
     "data": {
      "text/plain": [
       "[('trump', 0.23643312101910827),\n",
       " ('the', 0.07898089171974522),\n",
       " ('to', 0.070828025477707),\n",
       " ('donald', 0.041019108280254776),\n",
       " ('for', 0.040254777070063696),\n",
       " ('in', 0.039235668789808914),\n",
       " ('of', 0.03745222929936306),\n",
       " ('a', 0.033630573248407646),\n",
       " ('and', 0.03337579617834395),\n",
       " ('on', 0.02980891719745223)]"
      ]
     },
     "execution_count": 95,
     "metadata": {},
     "output_type": "execute_result"
    }
   ],
   "source": [
    "# Goal: max P(fake | word) = max P(word | fake) * P(fake)\n",
    "# = max P(word | fake) = max fake_thetas\n",
    "fake_thetas_ = [(word, theta) for word, theta in fake_thetas.items()]\n",
    "sorted_fake_words = sorted(fake_thetas_, key=lambda pair: pair[1], reverse=True)\n",
    "sorted_fake_words[:10]"
   ]
  },
  {
   "cell_type": "code",
   "execution_count": 96,
   "metadata": {},
   "outputs": [
    {
     "data": {
      "text/plain": [
       "[('asian', 0.00025477707006369424),\n",
       " ('aides', 0.00025477707006369424),\n",
       " ('marching', 0.00025477707006369424),\n",
       " ('stinks', 0.00025477707006369424),\n",
       " ('whose', 0.00025477707006369424),\n",
       " ('paris', 0.00025477707006369424),\n",
       " ('nominates', 0.00025477707006369424),\n",
       " ('kidman', 0.00025477707006369424),\n",
       " ('sorry', 0.00025477707006369424),\n",
       " ('whack', 0.00025477707006369424)]"
      ]
     },
     "execution_count": 96,
     "metadata": {},
     "output_type": "execute_result"
    }
   ],
   "source": [
    "# Goal: max P(fake | not word) = max P(not word | fake) * P(fake)\n",
    "# = max P(not word | fake) = max 1 - fake_thetas\n",
    "fake_thetas_ = [(word, theta) for word, theta in fake_thetas.items()]\n",
    "sorted_fake_words_not = sorted(fake_thetas_, key=lambda pair: 1 - pair[1], reverse=True)\n",
    "sorted_fake_words_not[:10]"
   ]
  },
  {
   "cell_type": "code",
   "execution_count": 98,
   "metadata": {},
   "outputs": [
    {
     "data": {
      "text/plain": [
       "[('four', 0.0005095541401273885),\n",
       " ('debunks', 0.0005095541401273885),\n",
       " ('sleep', 0.0005095541401273885),\n",
       " ('deri', 0.0005095541401273885),\n",
       " ('liar', 0.0005095541401273885),\n",
       " ('nwo', 0.0005095541401273885),\n",
       " ('assembled', 0.0005095541401273885),\n",
       " ('amtsantritt', 0.0005095541401273885),\n",
       " ('teaching', 0.0005095541401273885),\n",
       " ('sway', 0.0005095541401273885)]"
      ]
     },
     "execution_count": 98,
     "metadata": {},
     "output_type": "execute_result"
    }
   ],
   "source": [
    "fake_thetas_ = [(word, theta) for word, theta in fake_thetas.items() if word in fake_vocab]\n",
    "sorted_fake_words_not = sorted(fake_thetas_, key=lambda pair: 1 - pair[1], reverse=True)\n",
    "sorted_fake_words_not[:10]"
   ]
  },
  {
   "cell_type": "markdown",
   "metadata": {},
   "source": [
    "### Part 3 b)"
   ]
  },
  {
   "cell_type": "code",
   "execution_count": 99,
   "metadata": {},
   "outputs": [
    {
     "data": {
      "text/plain": [
       "[('trump', 0.28032407407407406),\n",
       " ('donald', 0.1337962962962963),\n",
       " ('trumps', 0.0375),\n",
       " ('says', 0.027777777777777776),\n",
       " ('election', 0.015277777777777777),\n",
       " ('clinton', 0.01412037037037037),\n",
       " ('north', 0.0125),\n",
       " ('ban', 0.012268518518518519),\n",
       " ('president', 0.011574074074074073),\n",
       " ('korea', 0.011574074074074073)]"
      ]
     },
     "execution_count": 99,
     "metadata": {},
     "output_type": "execute_result"
    }
   ],
   "source": [
    "from sklearn.feature_extraction.text import ENGLISH_STOP_WORDS\n",
    "real_thetas_ = [(word, theta) for word, theta in real_thetas.items() if word not in ENGLISH_STOP_WORDS]\n",
    "sorted_real_words = sorted(real_thetas_, key=lambda pair: pair[1], reverse=True)\n",
    "sorted_real_words[:10]"
   ]
  },
  {
   "cell_type": "code",
   "execution_count": 100,
   "metadata": {},
   "outputs": [
    {
     "data": {
      "text/plain": [
       "[('trump', 0.23643312101910827),\n",
       " ('donald', 0.041019108280254776),\n",
       " ('hillary', 0.025987261146496816),\n",
       " ('clinton', 0.025987261146496816),\n",
       " ('election', 0.015286624203821656),\n",
       " ('new', 0.012484076433121018),\n",
       " ('just', 0.012229299363057325),\n",
       " ('win', 0.011210191082802547),\n",
       " ('victory', 0.01070063694267516),\n",
       " ('america', 0.01019108280254777)]"
      ]
     },
     "execution_count": 100,
     "metadata": {},
     "output_type": "execute_result"
    }
   ],
   "source": [
    "fake_thetas_ = [(word, theta) for word, theta in fake_thetas.items() if word not in ENGLISH_STOP_WORDS]\n",
    "sorted_fake_words = sorted(fake_thetas_, key=lambda pair: pair[1], reverse=True)\n",
    "sorted_fake_words[:10]"
   ]
  },
  {
   "cell_type": "markdown",
   "metadata": {},
   "source": [
    "## Part 7: Decision Tree"
   ]
  },
  {
   "cell_type": "code",
   "execution_count": 1,
   "metadata": {
    "collapsed": true
   },
   "outputs": [],
   "source": [
    "from sklearn.tree import DecisionTreeClassifier\n",
    "from sklearn.feature_extraction.text import CountVectorizer\n",
    "import numpy as np"
   ]
  },
  {
   "cell_type": "code",
   "execution_count": 136,
   "metadata": {},
   "outputs": [
    {
     "data": {
      "text/plain": [
       "[('trump', 0.28032407407407406),\n",
       " ('donald', 0.1337962962962963),\n",
       " ('trumps', 0.0375),\n",
       " ('says', 0.027777777777777776),\n",
       " ('election', 0.015277777777777777),\n",
       " ('clinton', 0.01412037037037037),\n",
       " ('north', 0.0125),\n",
       " ('ban', 0.012268518518518519),\n",
       " ('president', 0.011574074074074073),\n",
       " ('korea', 0.011574074074074073),\n",
       " ('white', 0.010185185185185186),\n",
       " ('russia', 0.009722222222222222),\n",
       " ('turnbull', 0.009259259259259259),\n",
       " ('house', 0.009027777777777777),\n",
       " ('wall', 0.008796296296296297),\n",
       " ('travel', 0.008333333333333333),\n",
       " ('deal', 0.007638888888888889),\n",
       " ('new', 0.006944444444444444),\n",
       " ('obama', 0.006712962962962963),\n",
       " ('meeting', 0.00625),\n",
       " ('china', 0.0060185185185185185),\n",
       " ('australia', 0.0060185185185185185),\n",
       " ('tax', 0.005555555555555556),\n",
       " ('comey', 0.005324074074074074),\n",
       " ('climate', 0.005092592592592593),\n",
       " ('comments', 0.004861111111111111),\n",
       " ('warns', 0.004629629629629629),\n",
       " ('trade', 0.004629629629629629),\n",
       " ('win', 0.004629629629629629),\n",
       " ('victory', 0.004398148148148148)]"
      ]
     },
     "execution_count": 136,
     "metadata": {},
     "output_type": "execute_result"
    }
   ],
   "source": [
    "sorted_real_words[:30]"
   ]
  },
  {
   "cell_type": "code",
   "execution_count": 200,
   "metadata": {},
   "outputs": [],
   "source": [
    "sorted_combined = sorted_real_words[:500] + sorted_fake_words[:500]"
   ]
  },
  {
   "cell_type": "code",
   "execution_count": 201,
   "metadata": {},
   "outputs": [
    {
     "name": "stdout",
     "output_type": "stream",
     "text": [
      "['wire', 'chinese', 'fox', 'global', 'dollar', 'focus', 'steve', 'roy', 'protest', 'legal', 'controversial', 'talks', 'alt', 'hate', 'soros', 'votes', 'voter', 'praises', 'pardon', 'paris', 'tweet', 'obamacare', 'riots', 'list', 'finally', 'investigation', 'terror', 'adviser', 'woman', 'worse', 'manafort', 'rise', 'results', 'vegas', 'worst', 'fall', 'affect', 'trouble', 'common', 'leads', 'school', 'obstruction', 'did', 'turns', 'sanctions', 'michael', 'leave', 'race', 'denounces', 'polling', 'team', 'deplorable', 'bernie', 'revolution', 'says', 'leaders', 'fence', 'destroys', 'warns', 'sign', '270', 'second', 'street', 'video', 'lawyer', 'machines', 'afghanistan', 'brexit', 'defence', 'power', 'g20', 'asia', 'supporter', 'goes', 'capital', 'corker', 'new', 'public', 'told', 'supporting', 'iran', 'reporter', 'inauguration', 'muslim', 'china', 'address', 'gorafi', '100', 'strong', 'appears', 'change', 'boy', 'great', 'generals', 'daughter', 'ahead', 'withdrawing', 'leaves', 'changed', 'troops', 'reports', 'tv', 'pick', 'military', 'bob', 'katehon', 'makes', 'criticism', 'named', 'love', 'century', 'campaign', 'win', 'replace', 'names', 'fake', 'fbi', 'crisis', 'market', 'jinping', 'use', 'takes', 'working', 'tillerson', 'mexico', 'visit', 'leaks', 'live', 'going', 'come', 'strike', 'black', 'australian', 'stage', 'markets', 'today', 'snowden', 'israel', 'supporters', 'sessions', 'tax', 'missile', 'phone', 'charged', 'hold', 'iii', 'women', 'vp', 'vladimir', 'rights', 'car', 'work', 'ww3', 'era', 'mr', 'meet', 'didnt', 'history', 'claim', 'trump', 'share', 'agent', 'states', 'numbers', 'council', 'allowed', 'david', 'information', 'needs', 'united', 'end', 'travel', 'holds', 'nyt', '1', 'amazing', 'writers', 'interview', 'dismisses', 'resignation', 'michigan', 'economy', 'plans', 'watch', 'smear', 'internet', 'wrong', 'congressman', 'ties', 'law', 'response', 'man', 'attempt', 'amid', 'children', 'st', 'q', 'mark', 'chief', 'green', 'block', 'media', 'democratic', 'order', 'talk', 'breaking', 'help', 'office', 'welcomed', 'geopolitics', 'trade', 'course', 'xi', 'london', 'cuts', 'japan', 'mayor', 'welcomes', 'perfect', 'le', 'police', 'la', 'll', 'winning', 'destroyed', 'charlottesville', 'tweets', 'puerto', 'msnbc', '2016', 'texas', 'happened', 'non', 'good', 'finance', 'bans', 'ceo', 'musket', 'nation', 'break', 'schools', 'republican', 'tourism', 'day', 'presidential', 'wont', 'rhetoric', 'james', 'nfl', 'arrested', 'victory', 'shaking', 'accusers', 'el', 'shock', 'significantly', 'house', 'aide', 'challenges', 'fires', 'putin', 'ex', 'year', 'sexual', 'saturday', 'special', 'really', 'canada', 'rex', 'network', 'blacks', 'announces', 'chaos', 'companies', 'daniel', 'health', '7', 'hilarious', 'term', 'got', 'dominate', 'gop', 'pruitt', 'shows', 'arizona', 'million', 'threatened', 'revenge', 'free', 'bombshell', 'admits', 'reason', 'york', 'card', 'care', 'allies', 'language', 'propaganda', 'starts', 'refugee', 'transition', 'florida', 'days', 'ck', 'times', 'pence', 'thing', 'american', '184', 'massive', 'threat', 'syria', 'widow', 'think', 'south', 'major', 'appeals', 'dont', 'coming', 'americans', 'relations', 'president', 'vote', 'force', 'message', 'open', 'george', 'story', 'service', 'caught', 'trillion', 'returns', 'establishment', 'attack', '2', 'clinton', 'racist', 'white', 'john', 'final', 'gives', 'shifted', 'statement', 'relationship', 'trumped', 'moscow', 'hotel', 'hillary', 'condemns', 'hollywood', 'obama', '11', '10', '13', '12', 'things', 'coward', 'crave', 'defends', 'cost', 'wins', 'cards', 'hacking', 'russia', 'sean', 'sees', 'san', 'supremacist', 'julian', 'pro', 'assange', 'sad', 'say', 'conspiracy', 'resettlement', 'need', 'confirms', 'border', 'orders', 'collapse', 'lie', 'zoe', 'tired', 'clintons', 'concerns', 'online', 'shocker', 'korean', 'switching', 'ultimate', 'concedes', 'urge', 'clash', 'bruce', 'paid', 'react', 'assault', 'visa', 'germany', 'plan', 'letter', 'remarks', 'america', 'transcript', 'model', 'michelle', 'forever', 'episode', 'm', 'face', 'swamp', 'points', 'tech', 'harvey', 'weigh', 'left', 'nightmare', 'sanctuary', 'gold', 'electoral', 'probe', 'allegations', 'planning', 'radio', 'democrats', 'turnbull', 'debate', 'panic', 'deportation', 'knowledge', '3', 'crime', 'rico', 'bush', 'dreamers', 'tape', 'money', 'father', 'reset', 'hit', 'committed', 'merkel', 'endorse', 'stop', 'dc', 'joins', 'despite', 'report', 'years', 'dr', 'emails', 'gorsuch', 'countries', 'rage', 'taxes', 'morning', 'bad', 'predicted', 'ban', 'ivanka', 'shocks', 'steal', 'vision', 'secretary', 'reveals', 'set', 'accuses', 'predicts', 'dump', 'national', 'signs', 'uses', 'elected', 'officials', 'college', 'declares', 'sea', 'taiwan', 'said', 'farmers', 'federal', 'nuclear', 'review', 'macron', 'favor', 'state', 'won', 'whats', 'israels', 'email', 'ends', 'korea', 'jobs', 'vows', 'confusion', 'court', 'jr', 'boss', 'blame', 'death', 'awards', 'joe', 'key', 'news', 'cities', 'lawsuit', 'jfk', 'climate', 'f', 'taking', 'blasts', 'players', 'tour', 'busted', 'comey', 'trumps', 'senator', 'obamas', 'asked', 'admirals', 'comment', 'assassination', 'tough', 'jeff', 'wall', 'malcolm', 'memo', 'supreme', 'walk', '60', 'anti', 'path', 'cancel', 'poll', 'speak', 'conference', 'quit', 'asks', 'west', 'political', 'strategy', 'secret', 'las', 'expected', 'criticises', 'meeting', 'pm', 'wants', 'sanders', 'life', 'pena', 'eastern', 'republicans', 'hits', 'policy', 'wake', 'child', 'endingfed', 'case', 'save', 'tank', 'look', 'presidency', 'polls', 'budget', 'air', 'aim', 'stunning', 'elites', 'policies', 'rigged', 'aid', 'landslide', 'k', 'chilling', 'voters', 'funded', 'j', 'commander', 'helped', 'middle', 'experts', 'politics', 'ready', 'foreign', 'fame', 'confirmed', 'terrorist', 'shirt', 'pay', 'make', 'administration', 'tells', 'parts', 'speech', 'party', 'terrorism', 'gets', 'european', 'week', 'meets', 'arrives', 'kushner', 'blames', 'effect', 'protesters', 'director', 'running', '000', 'moving', 'kim', 'tradition', 'priebus', 'indonesia', 'analysis', 'picks', 'person', 'mother', 'kelly', 'claims', 'alabama', 'latest', 'ambassador', 'just', 'photo', 'executive', 'judge', 'violent', 'kill', 'thanks', 'human', 'ad', 'elect', 'paul', 'weekly', 'announcement', 'handshake', 'cut', 'family', 'candidate', 'point', 'barack', 'color', 'nato', '4', '5', 'east', 'gave', 'real', 'threatens', 'australia', 'government', 'rules', 'big', 'breaks', 'condemnation', 'possible', 'early', 'matters', 'know', 'press', 'world', 'lady', 'd', 'loss', 'like', 'eric', 'future', 'endorses', '50', 'loses', 't', 'night', 'security', 'refugees', 'opioid', 'right', 'old', 'deal', 'people', 'senate', 'twitter', 'donald', 'economic', 'election', 'home', 'thinks', 'denies', 'viral', 'crooked', 'lead', 'decision', 'hurricane', 'comments', 'conservative', 'does', 'cnn', 'epic', 'leader', 'considering', 'run', 'business', 'lose', 'agreement', 'host', 'post', 'includes', 'tower', 'panel', 'puts', 'attacks', 'endorsed', 'collett', 'dinner', 'slams', 'dutton', 'urges', 'bannon', 'duke', 'outlook', 'protests', 'suppression', 'civil', 'washington', 'usa', 'son', 'homeless', 'wrap', 'jerusalem', 'lashes', 'support', 'exposed', 'liberals', 'fight', 'addicting', 'way', 'biggest', 'war', 'flynn', 'jones', 'head', 'north', 'offer', 'immigration', 'goals', 'melania', 'congratulates', 'russian', 'trying', 'true', 'info', 'cia', 'fraud', 'isis', 'oligarchy', 'dangerous', 'inside', 'official', 'liberty', 'record', 'uk', 'called', 'promises', 'liberal', 'moore', 'fans', 'stealing', 'mike', 'general', 'proves', 'held', 'promised', 'rally', 'shooting', 'syrian', 'trip', 'want', 'idiot', 'daca', 'attacked', 'fears', 'reality', 'jong', 'protester', 'test', 'transgender', 'wing', 'happens', 'star', 'congress', 'irma', 'students', 'surprise', 'tpp', 'visits', 'stay', 'chance', 'outs', 'coverage', 'chris', 'zuesse', 'ago', 'voting', 'happening', 'calls', 'wife', 'age', 'daily', 'posts', 'u', 'time', 'push', 'overseas', 'fighting']\n"
     ]
    }
   ],
   "source": [
    "important_vocab = list(set([word for word, _ in sorted_combined]))\n",
    "print(important_vocab)"
   ]
  },
  {
   "cell_type": "code",
   "execution_count": 202,
   "metadata": {
    "collapsed": true
   },
   "outputs": [],
   "source": [
    "def feature_extraction(titles, important_vocab):\n",
    "    X = np.zeros([len(titles), len(important_vocab)])\n",
    "    for i, title in enumerate(titles):\n",
    "        words = title.split(\" \")\n",
    "        for word in words:\n",
    "            if word in important_vocab:\n",
    "                j = important_vocab.index(word)\n",
    "                X[i,j] += 1\n",
    "    return X"
   ]
  },
  {
   "cell_type": "code",
   "execution_count": 203,
   "metadata": {},
   "outputs": [
    {
     "name": "stdout",
     "output_type": "stream",
     "text": [
      "(2284, 814)\n",
      "(2284,)\n"
     ]
    }
   ],
   "source": [
    "X_train_fake = feature_extraction(fake_train[0], important_vocab)\n",
    "X_train_real = feature_extraction(real_train[0], important_vocab)\n",
    "X_train = np.row_stack((X_train_fake, X_train_real))\n",
    "\n",
    "y_train_fake = np.zeros([len(fake_train), 1])\n",
    "y_train_real = np.ones([len(real_train), 1])\n",
    "y_train = np.row_stack((y_train_fake, y_train_real))\n",
    "\n",
    "\n",
    "train = np.column_stack((X_train, y_train))\n",
    "np.random.seed(411)\n",
    "np.random.shuffle(train)\n",
    "X_train = train[:,:-1]\n",
    "y_train = train[:,-1]\n",
    "print X_train.shape\n",
    "print y_train.shape"
   ]
  },
  {
   "cell_type": "code",
   "execution_count": 204,
   "metadata": {},
   "outputs": [
    {
     "name": "stdout",
     "output_type": "stream",
     "text": [
      "(491, 814)\n",
      "(491,)\n"
     ]
    }
   ],
   "source": [
    "X_valid_fake = feature_extraction(fake_validation[0], important_vocab)\n",
    "X_valid_real = feature_extraction(real_validation[0], important_vocab)\n",
    "X_valid = np.row_stack((X_valid_fake, X_valid_real))\n",
    "\n",
    "y_valid_fake = np.zeros([len(fake_validation), 1])\n",
    "y_valid_real = np.ones([len(real_validation), 1])\n",
    "y_valid = np.row_stack((y_valid_fake, y_valid_real))\n",
    "\n",
    "\n",
    "valid = np.column_stack((X_valid, y_valid))\n",
    "np.random.seed(411)\n",
    "np.random.shuffle(train)\n",
    "X_valid = valid[:,:-1]\n",
    "y_valid = valid[:,-1]\n",
    "print X_valid.shape\n",
    "print y_valid.shape"
   ]
  },
  {
   "cell_type": "code",
   "execution_count": 205,
   "metadata": {
    "collapsed": true
   },
   "outputs": [],
   "source": [
    "all_depths = []\n",
    "train_accuracies = []\n",
    "valid_accuracies = []"
   ]
  },
  {
   "cell_type": "code",
   "execution_count": null,
   "metadata": {},
   "outputs": [
    {
     "name": "stdout",
     "output_type": "stream",
     "text": [
      "Max Depth: 448\n",
      "Train Accuracy: 0.9834, Validation Accuracy: 0.7576\n",
      "Max Depth: 135\n",
      "Train Accuracy: 0.972, Validation Accuracy: 0.778\n",
      "Max Depth: 20\n",
      "Train Accuracy: 0.7842, Validation Accuracy: 0.7149\n",
      "Max Depth: 307\n"
     ]
    }
   ],
   "source": [
    "max_depths = np.random.randint(low=1, high=500, size=10)\n",
    "for depth in max_depths:\n",
    "    print \"Max Depth: {}\".format(depth)\n",
    "    all_depths.append(depth)\n",
    "    \n",
    "    tree_clf = DecisionTreeClassifier(max_depth=depth)\n",
    "    tree_clf.fit(X_train, y_train)\n",
    "    \n",
    "    train_accuracy = tree_clf.score(X_train, y_train)\n",
    "    valid_accuracy = tree_clf.score(X_valid, y_valid)\n",
    "    \n",
    "    print \"Train Accuracy: {:.4}, Validation Accuracy: {:.4}\".format(train_accuracy, valid_accuracy)\n",
    "    \n",
    "    train_accuracies.append(train_accuracy)\n",
    "    valid_accuracies.append(valid_accuracy)"
   ]
  },
  {
   "cell_type": "code",
   "execution_count": 187,
   "metadata": {
    "collapsed": true
   },
   "outputs": [],
   "source": [
    "import matplotlib.pyplot as plt\n",
    "%matplotlib inline"
   ]
  },
  {
   "cell_type": "code",
   "execution_count": 179,
   "metadata": {},
   "outputs": [],
   "source": [
    "def plot_accuracies(depths, vocab_size, **accuracies):\n",
    "    plt.figure(figsize=(12,9))\n",
    "    plt.title(\"Training and Validation Accuracies for Various Max Depths\\nand a vocab size of {}\".format(vocab_size))\n",
    "    plt.xlabel(\"Max Depth\")\n",
    "    plt.ylabel(\"Accuracy\")\n",
    "    for dataset, accuracy in accuracies.items():\n",
    "        plt.scatter(depths, accuracy, label=dataset, marker='x')\n",
    "    plt.legend()\n",
    "    plt.savefig(\"./figures/accuracies_vocab_size_{}.png\".format(vocab_size), dpi=300, bbox_inches='tight')"
   ]
  },
  {
   "cell_type": "code",
   "execution_count": 199,
   "metadata": {},
   "outputs": [
    {
     "data": {
      "image/png": "[encoded data removed]",
      "text/plain": [
       "<matplotlib.figure.Figure at 0x1a2327afd0>"
      ]
     },
     "metadata": {},
     "output_type": "display_data"
    }
   ],
   "source": [
    "vocab_size = len(important_vocab)\n",
    "accuracies = {'train': train_accuracies, \"validation\": valid_accuracies}\n",
    "plot_accuracies(all_depths, vocab_size, **accuracies)"
   ]
  },
  {
   "cell_type": "code",
   "execution_count": null,
   "metadata": {
    "collapsed": true
   },
   "outputs": [],
   "source": []
  }
 ],
 "metadata": {
  "kernelspec": {
   "display_name": "Python 2",
   "language": "python",
   "name": "python2"
  },
  "language_info": {
   "codemirror_mode": {
    "name": "ipython",
    "version": 2
   },
   "file_extension": ".py",
   "mimetype": "text/x-python",
   "name": "python",
   "nbconvert_exporter": "python",
   "pygments_lexer": "ipython2",
   "version": "2.7.13"
  }
 },
 "nbformat": 4,
 "nbformat_minor": 2
}
