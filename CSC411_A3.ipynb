{
 "cells": [
  {
   "cell_type": "markdown",
   "metadata": {},
   "source": [
    "# CSC411 Assignment 3\n",
    "Let's get it."
   ]
  },
  {
   "cell_type": "code",
   "execution_count": 101,
   "metadata": {
    "collapsed": true
   },
   "outputs": [],
   "source": [
    "import pandas as pd\n",
    "from sklearn.model_selection import train_test_split\n",
    "import numpy as np"
   ]
  },
  {
   "cell_type": "markdown",
   "metadata": {},
   "source": [
    "## P1: Reading Data"
   ]
  },
  {
   "cell_type": "code",
   "execution_count": 61,
   "metadata": {
    "collapsed": true
   },
   "outputs": [],
   "source": [
    "import os\n",
    "root_dir = os.path.join(os.getcwd(), \"data\")\n",
    "fake_data = pd.read_fwf(os.path.join(root_dir, \"clean_fake.txt\"), header=None)\n",
    "real_data = pd.read_fwf(os.path.join(root_dir, \"clean_real.txt\"), header=None)"
   ]
  },
  {
   "cell_type": "code",
   "execution_count": 62,
   "metadata": {},
   "outputs": [
    {
     "name": "stdout",
     "output_type": "stream",
     "text": [
      "1298 1968\n"
     ]
    }
   ],
   "source": [
    "print len(fake_data), len(real_data)"
   ]
  },
  {
   "cell_type": "code",
   "execution_count": 106,
   "metadata": {
    "collapsed": true
   },
   "outputs": [],
   "source": [
    "fake_train, fake_test = train_test_split(fake_data, test_size=0.15)\n",
    "real_train, real_test = train_test_split(real_data, test_size=0.15)\n",
    "\n",
    "fake_train, fake_validation = train_test_split(fake_train, test_size=0.15/0.85)\n",
    "real_train, real_validation = train_test_split(real_train, test_size=0.15/0.85)"
   ]
  },
  {
   "cell_type": "code",
   "execution_count": 107,
   "metadata": {},
   "outputs": [
    {
     "name": "stdout",
     "output_type": "stream",
     "text": [
      "908 1376\n"
     ]
    }
   ],
   "source": [
    "print len(fake_train), len(real_train)"
   ]
  },
  {
   "cell_type": "markdown",
   "metadata": {},
   "source": [
    "## P2: Naive Bayes"
   ]
  },
  {
   "cell_type": "code",
   "execution_count": 108,
   "metadata": {
    "collapsed": true
   },
   "outputs": [],
   "source": [
    "def generate_counts(data):\n",
    "    '''\n",
    "    data is an array of strings\n",
    "    '''\n",
    "    counts = {}\n",
    "    for line in data:\n",
    "        words = line.split(\" \")\n",
    "        for word in words:\n",
    "            if word in counts:\n",
    "                counts[word] += 1.0\n",
    "            else:\n",
    "                counts[word] = 1.0\n",
    "    return counts"
   ]
  },
  {
   "cell_type": "code",
   "execution_count": 109,
   "metadata": {},
   "outputs": [
    {
     "name": "stdout",
     "output_type": "stream",
     "text": [
      "2968\n",
      "2961\n",
      "4783\n",
      "908.0\n",
      "1376.0\n",
      "0.602451838879\n",
      "0.397548161121\n"
     ]
    }
   ],
   "source": [
    "fake_counts = generate_counts(fake_train[0])\n",
    "real_counts = generate_counts(real_train[0])\n",
    "\n",
    "fake_vocab = fake_counts.keys()\n",
    "real_vocab = real_counts.keys()\n",
    "\n",
    "fake_vocab_size = len(fake_vocab)\n",
    "print fake_vocab_size\n",
    "real_vocab_size = len(real_vocab)\n",
    "print real_vocab_size\n",
    "\n",
    "\n",
    "for word in fake_counts.keys():\n",
    "    if word not in real_counts:\n",
    "        real_counts[word] = 0.0\n",
    "for word in real_counts.keys():\n",
    "    if word not in fake_counts:\n",
    "        fake_counts[word] = 0.0\n",
    "\n",
    "total_counts = {}\n",
    "for word in real_counts.keys():\n",
    "    total_counts[word] = real_counts[word] + fake_counts[word]\n",
    "    \n",
    "total_vocab_size = len(total_counts)\n",
    "print total_vocab_size\n",
    "\n",
    "num_fake = float(len(fake_train))\n",
    "num_real = float(len(real_train))\n",
    "num_total = num_fake + num_real\n",
    "\n",
    "print num_fake\n",
    "print num_real\n",
    "\n",
    "P_real = num_real / num_total\n",
    "P_fake = num_fake / num_total\n",
    "\n",
    "print P_real\n",
    "print P_fake\n",
    "\n",
    "\n",
    "\n",
    "alpha = 1.0 # Smoothing prior, alpha=1.0 Laplace smoothing\n",
    "fake_thetas = {word: (fake_counts[word] + alpha) / (num_fake + alpha * fake_vocab_size) for word in fake_counts.keys()}      #gives P(x | fake)\n",
    "real_thetas = {word: (real_counts[word] + alpha) / (num_real + alpha * real_vocab_size) for word in real_counts.keys()}      #gives P(x | real)\n",
    "total_thetas = {word: (total_counts[word] + alpha) / (num_total + alpha * total_vocab_size) for word in total_counts.keys()}  #gives P(x)"
   ]
  },
  {
   "cell_type": "code",
   "execution_count": 110,
   "metadata": {
    "collapsed": true
   },
   "outputs": [],
   "source": [
    "def make_prediction(line):\n",
    "    '''\n",
    "    line is a string\n",
    "    '''\n",
    "    words = line.split(\" \")\n",
    "    log_P_words_given_real = 0\n",
    "    log_P_words_given_fake = 0\n",
    "    for word in real_thetas.keys():\n",
    "      \n",
    "        if word in words:\n",
    "            log_P_words_given_real += np.log(real_thetas[word]) \n",
    "            log_P_words_given_fake += np.log(fake_thetas[word])\n",
    "        else:\n",
    "            log_P_words_given_real += np.log(1 - real_thetas[word])\n",
    "            log_P_words_given_fake += np.log(1 - fake_thetas[word])\n",
    "    \n",
    "    \n",
    "    log_numerator = log_P_words_given_real + np.log(P_real)\n",
    "    numerator = np.exp(log_numerator)\n",
    "    \n",
    "    log_fake = log_P_words_given_fake + np.log(P_fake)\n",
    "    log_denominator = np.log(numerator + np.exp(log_fake))\n",
    "    \n",
    "    log_P_real_given_words = log_numerator - log_denominator\n",
    "    return np.exp(log_P_real_given_words)"
   ]
  },
  {
   "cell_type": "code",
   "execution_count": 111,
   "metadata": {},
   "outputs": [
    {
     "name": "stdout",
     "output_type": "stream",
     "text": [
      "0.284265552377\n"
     ]
    }
   ],
   "source": [
    "print(make_prediction(\"fcc chairman ajit pai attempted to take a pornstar out for dinner\"))"
   ]
  },
  {
   "cell_type": "markdown",
   "metadata": {},
   "source": [
    "## Part 3"
   ]
  },
  {
   "cell_type": "code",
   "execution_count": 92,
   "metadata": {},
   "outputs": [
    {
     "data": {
      "text/plain": [
       "[('trump', 0.28032407407407406),\n",
       " ('donald', 0.1337962962962963),\n",
       " ('to', 0.07453703703703704),\n",
       " ('trumps', 0.0375),\n",
       " ('us', 0.03657407407407407),\n",
       " ('in', 0.03425925925925926),\n",
       " ('on', 0.03125),\n",
       " ('of', 0.030787037037037036),\n",
       " ('for', 0.02962962962962963),\n",
       " ('the', 0.028703703703703703)]"
      ]
     },
     "execution_count": 92,
     "metadata": {},
     "output_type": "execute_result"
    }
   ],
   "source": [
    "# Goal: max P(real | word) = max P(word | read) * P(real)\n",
    "# = max P(word | real) = max real_thetas\n",
    "real_thetas_ = [(word, theta) for word, theta in real_thetas.items()]\n",
    "sorted_real_words = sorted(real_thetas_, key=lambda pair: pair[1], reverse=True)\n",
    "sorted_real_words[:10]"
   ]
  },
  {
   "cell_type": "code",
   "execution_count": 93,
   "metadata": {},
   "outputs": [
    {
     "data": {
      "text/plain": [
       "[('sleep', 0.0002314814814814815),\n",
       " ('nwo', 0.0002314814814814815),\n",
       " ('assembled', 0.0002314814814814815),\n",
       " ('vandal', 0.0002314814814814815),\n",
       " ('edward', 0.0002314814814814815),\n",
       " ('teaching', 0.0002314814814814815),\n",
       " ('sway', 0.0002314814814814815),\n",
       " ('divergent', 0.0002314814814814815),\n",
       " ('illegally', 0.0002314814814814815),\n",
       " ('updated', 0.0002314814814814815)]"
      ]
     },
     "execution_count": 93,
     "metadata": {},
     "output_type": "execute_result"
    }
   ],
   "source": [
    "# Goal: max P(real | not word) = max P(not word | read) * P(real)\n",
    "# = max P(not word | real) = max (1 - P(word | real)) = max (1 - real_thetas)\n",
    "real_thetas_ = [(word, theta) for word, theta in real_thetas.items()]\n",
    "sorted_real_words_not = sorted(real_thetas_, key=lambda pair: 1 - pair[1], reverse=True)\n",
    "sorted_real_words_not[:10]"
   ]
  },
  {
   "cell_type": "code",
   "execution_count": 94,
   "metadata": {},
   "outputs": [
    {
     "data": {
      "text/plain": [
       "[('four', 0.000462962962962963),\n",
       " ('island', 0.000462962962962963),\n",
       " ('asian', 0.000462962962962963),\n",
       " ('aides', 0.000462962962962963),\n",
       " ('pheasant', 0.000462962962962963),\n",
       " ('hasan', 0.000462962962962963),\n",
       " ('marching', 0.000462962962962963),\n",
       " ('stinks', 0.000462962962962963),\n",
       " ('whose', 0.000462962962962963),\n",
       " ('voter', 0.000462962962962963)]"
      ]
     },
     "execution_count": 94,
     "metadata": {},
     "output_type": "execute_result"
    }
   ],
   "source": [
    "# But now look at words that only actually appear in the real headlines\n",
    "real_thetas_ = [(word, theta) for word, theta in real_thetas.items() if word in real_vocab]\n",
    "sorted_real_words_not = sorted(real_thetas_, key=lambda pair: 1 - pair[1], reverse=True)\n",
    "sorted_real_words_not[:10]"
   ]
  },
  {
   "cell_type": "code",
   "execution_count": 95,
   "metadata": {},
   "outputs": [
    {
     "data": {
      "text/plain": [
       "[('trump', 0.23643312101910827),\n",
       " ('the', 0.07898089171974522),\n",
       " ('to', 0.070828025477707),\n",
       " ('donald', 0.041019108280254776),\n",
       " ('for', 0.040254777070063696),\n",
       " ('in', 0.039235668789808914),\n",
       " ('of', 0.03745222929936306),\n",
       " ('a', 0.033630573248407646),\n",
       " ('and', 0.03337579617834395),\n",
       " ('on', 0.02980891719745223)]"
      ]
     },
     "execution_count": 95,
     "metadata": {},
     "output_type": "execute_result"
    }
   ],
   "source": [
    "# Goal: max P(fake | word) = max P(word | fake) * P(fake)\n",
    "# = max P(word | fake) = max fake_thetas\n",
    "fake_thetas_ = [(word, theta) for word, theta in fake_thetas.items()]\n",
    "sorted_fake_words = sorted(fake_thetas_, key=lambda pair: pair[1], reverse=True)\n",
    "sorted_fake_words[:10]"
   ]
  },
  {
   "cell_type": "code",
   "execution_count": 96,
   "metadata": {},
   "outputs": [
    {
     "data": {
      "text/plain": [
       "[('asian', 0.00025477707006369424),\n",
       " ('aides', 0.00025477707006369424),\n",
       " ('marching', 0.00025477707006369424),\n",
       " ('stinks', 0.00025477707006369424),\n",
       " ('whose', 0.00025477707006369424),\n",
       " ('paris', 0.00025477707006369424),\n",
       " ('nominates', 0.00025477707006369424),\n",
       " ('kidman', 0.00025477707006369424),\n",
       " ('sorry', 0.00025477707006369424),\n",
       " ('whack', 0.00025477707006369424)]"
      ]
     },
     "execution_count": 96,
     "metadata": {},
     "output_type": "execute_result"
    }
   ],
   "source": [
    "# Goal: max P(fake | not word) = max P(not word | fake) * P(fake)\n",
    "# = max P(not word | fake) = max 1 - fake_thetas\n",
    "fake_thetas_ = [(word, theta) for word, theta in fake_thetas.items()]\n",
    "sorted_fake_words_not = sorted(fake_thetas_, key=lambda pair: 1 - pair[1], reverse=True)\n",
    "sorted_fake_words_not[:10]"
   ]
  },
  {
   "cell_type": "code",
   "execution_count": 98,
   "metadata": {},
   "outputs": [
    {
     "data": {
      "text/plain": [
       "[('four', 0.0005095541401273885),\n",
       " ('debunks', 0.0005095541401273885),\n",
       " ('sleep', 0.0005095541401273885),\n",
       " ('deri', 0.0005095541401273885),\n",
       " ('liar', 0.0005095541401273885),\n",
       " ('nwo', 0.0005095541401273885),\n",
       " ('assembled', 0.0005095541401273885),\n",
       " ('amtsantritt', 0.0005095541401273885),\n",
       " ('teaching', 0.0005095541401273885),\n",
       " ('sway', 0.0005095541401273885)]"
      ]
     },
     "execution_count": 98,
     "metadata": {},
     "output_type": "execute_result"
    }
   ],
   "source": [
    "fake_thetas_ = [(word, theta) for word, theta in fake_thetas.items() if word in fake_vocab]\n",
    "sorted_fake_words_not = sorted(fake_thetas_, key=lambda pair: 1 - pair[1], reverse=True)\n",
    "sorted_fake_words_not[:10]"
   ]
  },
  {
   "cell_type": "markdown",
   "metadata": {},
   "source": [
    "### Part 3 b)"
   ]
  },
  {
   "cell_type": "code",
   "execution_count": 99,
   "metadata": {},
   "outputs": [
    {
     "data": {
      "text/plain": [
       "[('trump', 0.28032407407407406),\n",
       " ('donald', 0.1337962962962963),\n",
       " ('trumps', 0.0375),\n",
       " ('says', 0.027777777777777776),\n",
       " ('election', 0.015277777777777777),\n",
       " ('clinton', 0.01412037037037037),\n",
       " ('north', 0.0125),\n",
       " ('ban', 0.012268518518518519),\n",
       " ('president', 0.011574074074074073),\n",
       " ('korea', 0.011574074074074073)]"
      ]
     },
     "execution_count": 99,
     "metadata": {},
     "output_type": "execute_result"
    }
   ],
   "source": [
    "from sklearn.feature_extraction.text import ENGLISH_STOP_WORDS\n",
    "real_thetas_ = [(word, theta) for word, theta in real_thetas.items() if word not in ENGLISH_STOP_WORDS]\n",
    "sorted_real_words = sorted(real_thetas_, key=lambda pair: pair[1], reverse=True)\n",
    "sorted_real_words[:10]"
   ]
  },
  {
   "cell_type": "code",
   "execution_count": 100,
   "metadata": {},
   "outputs": [
    {
     "data": {
      "text/plain": [
       "[('trump', 0.23643312101910827),\n",
       " ('donald', 0.041019108280254776),\n",
       " ('hillary', 0.025987261146496816),\n",
       " ('clinton', 0.025987261146496816),\n",
       " ('election', 0.015286624203821656),\n",
       " ('new', 0.012484076433121018),\n",
       " ('just', 0.012229299363057325),\n",
       " ('win', 0.011210191082802547),\n",
       " ('victory', 0.01070063694267516),\n",
       " ('america', 0.01019108280254777)]"
      ]
     },
     "execution_count": 100,
     "metadata": {},
     "output_type": "execute_result"
    }
   ],
   "source": [
    "fake_thetas_ = [(word, theta) for word, theta in fake_thetas.items() if word not in ENGLISH_STOP_WORDS]\n",
    "sorted_fake_words = sorted(fake_thetas_, key=lambda pair: pair[1], reverse=True)\n",
    "sorted_fake_words[:10]"
   ]
  },
  {
   "cell_type": "markdown",
   "metadata": {},
   "source": [
    "## Part 7: Decision Tree"
   ]
  },
  {
   "cell_type": "code",
   "execution_count": 1,
   "metadata": {
    "collapsed": true
   },
   "outputs": [],
   "source": [
    "from sklearn.tree import DecisionTreeClassifier\n",
    "from sklearn.feature_extraction.text import CountVectorizer\n",
    "import numpy as np"
   ]
  },
  {
   "cell_type": "code",
   "execution_count": 17,
   "metadata": {},
   "outputs": [],
   "source": [
    "fake_file = os.path.join(root_dir, \"clean_fake.txt\")\n",
    "top_fake = CountVectorizer(os.path.join(root_dir, \"clean_fake.txt\"), stop_words='english', max_features=10)"
   ]
  },
  {
   "cell_type": "code",
   "execution_count": 20,
   "metadata": {},
   "outputs": [
    {
     "ename": "ValueError",
     "evalue": "The truth value of an array with more than one element is ambiguous. Use a.any() or a.all()",
     "output_type": "error",
     "traceback": [
      "\u001b[0;31m----------------------------------------------------------------------\u001b[0m",
      "\u001b[0;31mValueError\u001b[0m                           Traceback (most recent call last)",
      "\u001b[0;32m<ipython-input-20-a68921815597>\u001b[0m in \u001b[0;36m<module>\u001b[0;34m()\u001b[0m\n\u001b[0;32m----> 1\u001b[0;31m \u001b[0mcv\u001b[0m\u001b[0;34m.\u001b[0m\u001b[0mfit_transform\u001b[0m\u001b[0;34m(\u001b[0m\u001b[0;34m[\u001b[0m\u001b[0mfake_file\u001b[0m\u001b[0;34m]\u001b[0m\u001b[0;34m)\u001b[0m\u001b[0;34m\u001b[0m\u001b[0m\n\u001b[0m",
      "\u001b[0;32m/anaconda3/envs/CSC411/lib/python2.7/site-packages/sklearn/feature_extraction/text.pyc\u001b[0m in \u001b[0;36mfit_transform\u001b[0;34m(self, raw_documents, y)\u001b[0m\n\u001b[1;32m    867\u001b[0m \u001b[0;34m\u001b[0m\u001b[0m\n\u001b[1;32m    868\u001b[0m         vocabulary, X = self._count_vocab(raw_documents,\n\u001b[0;32m--> 869\u001b[0;31m                                           self.fixed_vocabulary_)\n\u001b[0m\u001b[1;32m    870\u001b[0m \u001b[0;34m\u001b[0m\u001b[0m\n\u001b[1;32m    871\u001b[0m         \u001b[0;32mif\u001b[0m \u001b[0mself\u001b[0m\u001b[0;34m.\u001b[0m\u001b[0mbinary\u001b[0m\u001b[0;34m:\u001b[0m\u001b[0;34m\u001b[0m\u001b[0m\n",
      "\u001b[0;32m/anaconda3/envs/CSC411/lib/python2.7/site-packages/sklearn/feature_extraction/text.pyc\u001b[0m in \u001b[0;36m_count_vocab\u001b[0;34m(self, raw_documents, fixed_vocab)\u001b[0m\n\u001b[1;32m    790\u001b[0m         \u001b[0;32mfor\u001b[0m \u001b[0mdoc\u001b[0m \u001b[0;32min\u001b[0m \u001b[0mraw_documents\u001b[0m\u001b[0;34m:\u001b[0m\u001b[0;34m\u001b[0m\u001b[0m\n\u001b[1;32m    791\u001b[0m             \u001b[0mfeature_counter\u001b[0m \u001b[0;34m=\u001b[0m \u001b[0;34m{\u001b[0m\u001b[0;34m}\u001b[0m\u001b[0;34m\u001b[0m\u001b[0m\n\u001b[0;32m--> 792\u001b[0;31m             \u001b[0;32mfor\u001b[0m \u001b[0mfeature\u001b[0m \u001b[0;32min\u001b[0m \u001b[0manalyze\u001b[0m\u001b[0;34m(\u001b[0m\u001b[0mdoc\u001b[0m\u001b[0;34m)\u001b[0m\u001b[0;34m:\u001b[0m\u001b[0;34m\u001b[0m\u001b[0m\n\u001b[0m\u001b[1;32m    793\u001b[0m                 \u001b[0;32mtry\u001b[0m\u001b[0;34m:\u001b[0m\u001b[0;34m\u001b[0m\u001b[0m\n\u001b[1;32m    794\u001b[0m                     \u001b[0mfeature_idx\u001b[0m \u001b[0;34m=\u001b[0m \u001b[0mvocabulary\u001b[0m\u001b[0;34m[\u001b[0m\u001b[0mfeature\u001b[0m\u001b[0;34m]\u001b[0m\u001b[0;34m\u001b[0m\u001b[0m\n",
      "\u001b[0;32m/anaconda3/envs/CSC411/lib/python2.7/site-packages/sklearn/feature_extraction/text.pyc\u001b[0m in \u001b[0;36m<lambda>\u001b[0;34m(doc)\u001b[0m\n\u001b[1;32m    264\u001b[0m \u001b[0;34m\u001b[0m\u001b[0m\n\u001b[1;32m    265\u001b[0m             return lambda doc: self._word_ngrams(\n\u001b[0;32m--> 266\u001b[0;31m                 tokenize(preprocess(self.decode(doc))), stop_words)\n\u001b[0m\u001b[1;32m    267\u001b[0m \u001b[0;34m\u001b[0m\u001b[0m\n\u001b[1;32m    268\u001b[0m         \u001b[0;32melse\u001b[0m\u001b[0;34m:\u001b[0m\u001b[0;34m\u001b[0m\u001b[0m\n",
      "\u001b[0;32m/anaconda3/envs/CSC411/lib/python2.7/site-packages/sklearn/feature_extraction/text.pyc\u001b[0m in \u001b[0;36mdecode\u001b[0;34m(self, doc)\u001b[0m\n\u001b[1;32m    106\u001b[0m         \u001b[0mThe\u001b[0m \u001b[0mdecoding\u001b[0m \u001b[0mstrategy\u001b[0m \u001b[0mdepends\u001b[0m \u001b[0mon\u001b[0m \u001b[0mthe\u001b[0m \u001b[0mvectorizer\u001b[0m \u001b[0mparameters\u001b[0m\u001b[0;34m.\u001b[0m\u001b[0;34m\u001b[0m\u001b[0m\n\u001b[1;32m    107\u001b[0m         \"\"\"\n\u001b[0;32m--> 108\u001b[0;31m         \u001b[0;32mif\u001b[0m \u001b[0mself\u001b[0m\u001b[0;34m.\u001b[0m\u001b[0minput\u001b[0m \u001b[0;34m==\u001b[0m \u001b[0;34m'filename'\u001b[0m\u001b[0;34m:\u001b[0m\u001b[0;34m\u001b[0m\u001b[0m\n\u001b[0m\u001b[1;32m    109\u001b[0m             \u001b[0;32mwith\u001b[0m \u001b[0mopen\u001b[0m\u001b[0;34m(\u001b[0m\u001b[0mdoc\u001b[0m\u001b[0;34m,\u001b[0m \u001b[0;34m'rb'\u001b[0m\u001b[0;34m)\u001b[0m \u001b[0;32mas\u001b[0m \u001b[0mfh\u001b[0m\u001b[0;34m:\u001b[0m\u001b[0;34m\u001b[0m\u001b[0m\n\u001b[1;32m    110\u001b[0m                 \u001b[0mdoc\u001b[0m \u001b[0;34m=\u001b[0m \u001b[0mfh\u001b[0m\u001b[0;34m.\u001b[0m\u001b[0mread\u001b[0m\u001b[0;34m(\u001b[0m\u001b[0;34m)\u001b[0m\u001b[0;34m\u001b[0m\u001b[0m\n",
      "\u001b[0;31mValueError\u001b[0m: The truth value of an array with more than one element is ambiguous. Use a.any() or a.all()"
     ]
    }
   ],
   "source": [
    "cv.fit_transform([fake_file])"
   ]
  },
  {
   "cell_type": "code",
   "execution_count": null,
   "metadata": {
    "collapsed": true
   },
   "outputs": [],
   "source": [
    "fake_train_labels = np.zeros((fake_train.shape[0], 1))\n",
    "real_train_labels = np.ones((real_train.shape[0], 1))\n",
    "y_train = np.row_stack((fake_train_labels, real_train_labels))\n",
    "X_train = "
   ]
  },
  {
   "cell_type": "code",
   "execution_count": 20,
   "metadata": {
    "collapsed": true
   },
   "outputs": [],
   "source": [
    "all_depths = []\n",
    "train_accuracies = []\n",
    "valid_accuracies = []"
   ]
  },
  {
   "cell_type": "code",
   "execution_count": 21,
   "metadata": {},
   "outputs": [
    {
     "name": "stdout",
     "output_type": "stream",
     "text": [
      "Max Depth: 93\n"
     ]
    },
    {
     "ename": "ValueError",
     "evalue": "could not convert string to float: comment on rachel maddow declares that a trump presidency could have radical effects on her chosen profession by anonymous",
     "output_type": "error",
     "traceback": [
      "\u001b[0;31m---------------------------------------------------------------------------\u001b[0m",
      "\u001b[0;31mValueError\u001b[0m                                Traceback (most recent call last)",
      "\u001b[0;32m<ipython-input-21-3e52fa411ba2>\u001b[0m in \u001b[0;36m<module>\u001b[0;34m()\u001b[0m\n\u001b[1;32m      5\u001b[0m \u001b[0;34m\u001b[0m\u001b[0m\n\u001b[1;32m      6\u001b[0m     \u001b[0mtree_clf\u001b[0m \u001b[0;34m=\u001b[0m \u001b[0mDecisionTreeClassifier\u001b[0m\u001b[0;34m(\u001b[0m\u001b[0mmax_depth\u001b[0m\u001b[0;34m=\u001b[0m\u001b[0mdepth\u001b[0m\u001b[0;34m)\u001b[0m\u001b[0;34m\u001b[0m\u001b[0m\n\u001b[0;32m----> 7\u001b[0;31m     \u001b[0mtree_clf\u001b[0m\u001b[0;34m.\u001b[0m\u001b[0mfit\u001b[0m\u001b[0;34m(\u001b[0m\u001b[0mfake_train\u001b[0m\u001b[0;34m,\u001b[0m \u001b[0mreal_train\u001b[0m\u001b[0;34m)\u001b[0m\u001b[0;34m\u001b[0m\u001b[0m\n\u001b[0m\u001b[1;32m      8\u001b[0m \u001b[0;34m\u001b[0m\u001b[0m\n\u001b[1;32m      9\u001b[0m     \u001b[0mtrain_accuracy\u001b[0m \u001b[0;34m=\u001b[0m \u001b[0mtree_clf\u001b[0m\u001b[0;34m.\u001b[0m\u001b[0mscore\u001b[0m\u001b[0;34m(\u001b[0m\u001b[0mfake_train\u001b[0m\u001b[0;34m,\u001b[0m \u001b[0mreal_train\u001b[0m\u001b[0;34m)\u001b[0m\u001b[0;34m\u001b[0m\u001b[0m\n",
      "\u001b[0;32m/anaconda3/envs/CSC411/lib/python2.7/site-packages/sklearn/tree/tree.pyc\u001b[0m in \u001b[0;36mfit\u001b[0;34m(self, X, y, sample_weight, check_input, X_idx_sorted)\u001b[0m\n\u001b[1;32m    788\u001b[0m             \u001b[0msample_weight\u001b[0m\u001b[0;34m=\u001b[0m\u001b[0msample_weight\u001b[0m\u001b[0;34m,\u001b[0m\u001b[0;34m\u001b[0m\u001b[0m\n\u001b[1;32m    789\u001b[0m             \u001b[0mcheck_input\u001b[0m\u001b[0;34m=\u001b[0m\u001b[0mcheck_input\u001b[0m\u001b[0;34m,\u001b[0m\u001b[0;34m\u001b[0m\u001b[0m\n\u001b[0;32m--> 790\u001b[0;31m             X_idx_sorted=X_idx_sorted)\n\u001b[0m\u001b[1;32m    791\u001b[0m         \u001b[0;32mreturn\u001b[0m \u001b[0mself\u001b[0m\u001b[0;34m\u001b[0m\u001b[0m\n\u001b[1;32m    792\u001b[0m \u001b[0;34m\u001b[0m\u001b[0m\n",
      "\u001b[0;32m/anaconda3/envs/CSC411/lib/python2.7/site-packages/sklearn/tree/tree.pyc\u001b[0m in \u001b[0;36mfit\u001b[0;34m(self, X, y, sample_weight, check_input, X_idx_sorted)\u001b[0m\n\u001b[1;32m    114\u001b[0m         \u001b[0mrandom_state\u001b[0m \u001b[0;34m=\u001b[0m \u001b[0mcheck_random_state\u001b[0m\u001b[0;34m(\u001b[0m\u001b[0mself\u001b[0m\u001b[0;34m.\u001b[0m\u001b[0mrandom_state\u001b[0m\u001b[0;34m)\u001b[0m\u001b[0;34m\u001b[0m\u001b[0m\n\u001b[1;32m    115\u001b[0m         \u001b[0;32mif\u001b[0m \u001b[0mcheck_input\u001b[0m\u001b[0;34m:\u001b[0m\u001b[0;34m\u001b[0m\u001b[0m\n\u001b[0;32m--> 116\u001b[0;31m             \u001b[0mX\u001b[0m \u001b[0;34m=\u001b[0m \u001b[0mcheck_array\u001b[0m\u001b[0;34m(\u001b[0m\u001b[0mX\u001b[0m\u001b[0;34m,\u001b[0m \u001b[0mdtype\u001b[0m\u001b[0;34m=\u001b[0m\u001b[0mDTYPE\u001b[0m\u001b[0;34m,\u001b[0m \u001b[0maccept_sparse\u001b[0m\u001b[0;34m=\u001b[0m\u001b[0;34m\"csc\"\u001b[0m\u001b[0;34m)\u001b[0m\u001b[0;34m\u001b[0m\u001b[0m\n\u001b[0m\u001b[1;32m    117\u001b[0m             \u001b[0my\u001b[0m \u001b[0;34m=\u001b[0m \u001b[0mcheck_array\u001b[0m\u001b[0;34m(\u001b[0m\u001b[0my\u001b[0m\u001b[0;34m,\u001b[0m \u001b[0mensure_2d\u001b[0m\u001b[0;34m=\u001b[0m\u001b[0mFalse\u001b[0m\u001b[0;34m,\u001b[0m \u001b[0mdtype\u001b[0m\u001b[0;34m=\u001b[0m\u001b[0mNone\u001b[0m\u001b[0;34m)\u001b[0m\u001b[0;34m\u001b[0m\u001b[0m\n\u001b[1;32m    118\u001b[0m             \u001b[0;32mif\u001b[0m \u001b[0missparse\u001b[0m\u001b[0;34m(\u001b[0m\u001b[0mX\u001b[0m\u001b[0;34m)\u001b[0m\u001b[0;34m:\u001b[0m\u001b[0;34m\u001b[0m\u001b[0m\n",
      "\u001b[0;32m/anaconda3/envs/CSC411/lib/python2.7/site-packages/sklearn/utils/validation.pyc\u001b[0m in \u001b[0;36mcheck_array\u001b[0;34m(array, accept_sparse, dtype, order, copy, force_all_finite, ensure_2d, allow_nd, ensure_min_samples, ensure_min_features, warn_on_dtype, estimator)\u001b[0m\n\u001b[1;32m    400\u001b[0m                                       force_all_finite)\n\u001b[1;32m    401\u001b[0m     \u001b[0;32melse\u001b[0m\u001b[0;34m:\u001b[0m\u001b[0;34m\u001b[0m\u001b[0m\n\u001b[0;32m--> 402\u001b[0;31m         \u001b[0marray\u001b[0m \u001b[0;34m=\u001b[0m \u001b[0mnp\u001b[0m\u001b[0;34m.\u001b[0m\u001b[0marray\u001b[0m\u001b[0;34m(\u001b[0m\u001b[0marray\u001b[0m\u001b[0;34m,\u001b[0m \u001b[0mdtype\u001b[0m\u001b[0;34m=\u001b[0m\u001b[0mdtype\u001b[0m\u001b[0;34m,\u001b[0m \u001b[0morder\u001b[0m\u001b[0;34m=\u001b[0m\u001b[0morder\u001b[0m\u001b[0;34m,\u001b[0m \u001b[0mcopy\u001b[0m\u001b[0;34m=\u001b[0m\u001b[0mcopy\u001b[0m\u001b[0;34m)\u001b[0m\u001b[0;34m\u001b[0m\u001b[0m\n\u001b[0m\u001b[1;32m    403\u001b[0m \u001b[0;34m\u001b[0m\u001b[0m\n\u001b[1;32m    404\u001b[0m         \u001b[0;32mif\u001b[0m \u001b[0mensure_2d\u001b[0m\u001b[0;34m:\u001b[0m\u001b[0;34m\u001b[0m\u001b[0m\n",
      "\u001b[0;31mValueError\u001b[0m: could not convert string to float: comment on rachel maddow declares that a trump presidency could have radical effects on her chosen profession by anonymous"
     ]
    }
   ],
   "source": [
    "max_depths = np.random.randint(low=1, high=100, size=10)\n",
    "for depth in max_depths:\n",
    "    print \"Max Depth: {}\".format(depth)\n",
    "    all_depths.append(depth)\n",
    "    \n",
    "    tree_clf = DecisionTreeClassifier(max_depth=depth)\n",
    "    tree_clf.fit(fake_train, real_train)\n",
    "    \n",
    "    train_accuracy = tree_clf.score(fake_train, real_train)\n",
    "    valid_accuracy = tree_clf.score(fake_validation, real_validation)\n",
    "    \n",
    "    train_accuracies.append(train_accuracy)\n",
    "    valid_accuracies.append(valid_accuracy)"
   ]
  },
  {
   "cell_type": "code",
   "execution_count": null,
   "metadata": {
    "collapsed": true
   },
   "outputs": [],
   "source": []
  }
 ],
 "metadata": {
  "kernelspec": {
   "display_name": "Python 2",
   "language": "python",
   "name": "python2"
  },
  "language_info": {
   "codemirror_mode": {
    "name": "ipython",
    "version": 2
   },
   "file_extension": ".py",
   "mimetype": "text/x-python",
   "name": "python",
   "nbconvert_exporter": "python",
   "pygments_lexer": "ipython2",
   "version": "2.7.13"
  }
 },
 "nbformat": 4,
 "nbformat_minor": 2
}
